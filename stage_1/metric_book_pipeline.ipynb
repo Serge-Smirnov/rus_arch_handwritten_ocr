{
 "cells": [
  {
   "cell_type": "markdown",
   "id": "0d95d8a9",
   "metadata": {},
   "source": [
    "# константы"
   ]
  },
  {
   "cell_type": "code",
   "execution_count": 1,
   "id": "20ccf9f5",
   "metadata": {},
   "outputs": [],
   "source": [
    "data_dir = '/home/admin/notebooks/data_mb/'\n",
    "\n",
    "coco_files_dir = data_dir + 'coco/metadata_for_merge/'\n",
    "merged_coco_filename = data_dir + 'coco/merged.json'\n",
    "image_dir = data_dir + 'images/'\n",
    "\n",
    "# обучение\n",
    "train_dir = data_dir + 'train/'\n",
    "train_image_dir = train_dir + 'images/'\n",
    "train_annotations_filename = train_dir + 'train_annotations.json'\n",
    "train_binary_mask_filename = train_dir + 'all_groundtruth_binary_mask.npz'\n",
    "train_config_filename = train_dir + \"config.yaml\"\n",
    "\n",
    "# валидация\n",
    "val_dir = data_dir + 'val/'\n",
    "val_image_dir = val_dir + 'images/'\n",
    "val_annotations_filename = val_dir + 'val_annotations.json'\n",
    "val_binary_mask_filename = val_dir + 'val_binary_mask.npz'\n",
    "val_predict_binary_mask_filename = val_dir + 'val_predict_binary_mask.npz'\n",
    "\n",
    "output_dir = '/home/admin/notebooks/output_mb/'\n",
    "model_final_filename = output_dir + 'model_final.pth'\n",
    "metrics_filename = output_dir + 'metrics.json'\n"
   ]
  },
  {
   "cell_type": "markdown",
   "id": "cd6a912e",
   "metadata": {},
   "source": [
    "# мёрж COCO файлов и исправление путей к образам"
   ]
  },
  {
   "cell_type": "code",
   "execution_count": 2,
   "id": "53eea593",
   "metadata": {},
   "outputs": [
    {
     "name": "stdout",
     "output_type": "stream",
     "text": [
      "['/home/admin/notebooks/data_mb/coco/metadata_for_merge/metric_book_2-4.json', '/home/admin/notebooks/data_mb/coco/metadata_for_merge/metric_book_1-3.json']\n"
     ]
    },
    {
     "data": {
      "application/vnd.jupyter.widget-view+json": {
       "model_id": "671b3c3c5fc247078bd69192a0cc5770",
       "version_major": 2,
       "version_minor": 0
      },
      "text/plain": [
       "  0%|          | 0/2 [00:00<?, ?it/s]"
      ]
     },
     "metadata": {},
     "output_type": "display_data"
    }
   ],
   "source": [
    "from prepare_data import get_coco_files,save_to_file,merge,fix_image_paths\n",
    "\n",
    "coco_files = get_coco_files(coco_files_dir)\n",
    "merged_coco_obj = merge(coco_files)\n",
    "fix_image_paths(merged_coco_obj, image_dir)\n",
    "save_to_file(merged_coco_obj, merged_coco_filename)\n"
   ]
  },
  {
   "cell_type": "markdown",
   "id": "19122af5",
   "metadata": {},
   "source": [
    "# подготовка данных для обучения и валидации"
   ]
  },
  {
   "cell_type": "code",
   "execution_count": 3,
   "id": "f77fa104",
   "metadata": {},
   "outputs": [
    {
     "data": {
      "application/vnd.jupyter.widget-view+json": {
       "model_id": "f7e61c1d41d646a195608ec76917c89e",
       "version_major": 2,
       "version_minor": 0
      },
      "text/plain": [
       "  0%|          | 0/128 [00:00<?, ?it/s]"
      ]
     },
     "metadata": {},
     "output_type": "display_data"
    },
    {
     "data": {
      "application/vnd.jupyter.widget-view+json": {
       "model_id": "70cd9f39424146e284722eaa28c67bff",
       "version_major": 2,
       "version_minor": 0
      },
      "text/plain": [
       "  0%|          | 0/15 [00:00<?, ?it/s]"
      ]
     },
     "metadata": {},
     "output_type": "display_data"
    }
   ],
   "source": [
    "from prepare_data import prepare_train_and_val_coco_files,save_to_file,copy_images\n",
    "\n",
    "annotations_train, annotations_val = prepare_train_and_val_coco_files(merged_coco_filename)\n",
    "\n",
    "save_to_file(annotations_train, train_annotations_filename)\n",
    "save_to_file(annotations_val, val_annotations_filename)\n",
    "\n",
    "# Скопируем изображения для обучения и валидации\n",
    "copy_images(annotations_train, image_dir, train_image_dir)\n",
    "copy_images(annotations_val, image_dir, val_image_dir)\n",
    "\n"
   ]
  },
  {
   "cell_type": "markdown",
   "id": "3adbd8ec",
   "metadata": {},
   "source": [
    "# подготовка бинарных масок"
   ]
  },
  {
   "cell_type": "code",
   "execution_count": 4,
   "id": "a3bac757",
   "metadata": {},
   "outputs": [
    {
     "data": {
      "application/vnd.jupyter.widget-view+json": {
       "model_id": "e3e10c6839164d7a81e00eac96a11375",
       "version_major": 2,
       "version_minor": 0
      },
      "text/plain": [
       "  0%|          | 0/143 [00:00<?, ?it/s]"
      ]
     },
     "metadata": {},
     "output_type": "display_data"
    },
    {
     "data": {
      "application/vnd.jupyter.widget-view+json": {
       "model_id": "fefd9fae91d34903aed5a2bd53843704",
       "version_major": 2,
       "version_minor": 0
      },
      "text/plain": [
       "  0%|          | 0/15 [00:00<?, ?it/s]"
      ]
     },
     "metadata": {},
     "output_type": "display_data"
    }
   ],
   "source": [
    "from prepare_data import prepare_masks\n",
    "import numpy as np\n",
    "\n",
    "# сохраняем маски в файл        \n",
    "all_binary_mask_dict = prepare_masks(merged_coco_filename, image_dir)\n",
    "np.savez_compressed(train_binary_mask_filename, **all_binary_mask_dict)\n",
    "\n",
    "val_binary_mask_dict = prepare_masks(val_annotations_filename, val_image_dir)\n",
    "np.savez_compressed(val_binary_mask_filename, **val_binary_mask_dict)"
   ]
  },
  {
   "cell_type": "markdown",
   "id": "02b33a91",
   "metadata": {},
   "source": [
    "# Обучение"
   ]
  },
  {
   "cell_type": "code",
   "execution_count": 2,
   "id": "7648500f",
   "metadata": {},
   "outputs": [
    {
     "data": {
      "image/png": "[encoded data removed]",
      "text/plain": [
       "<Figure size 640x480 with 1 Axes>"
      ]
     },
     "metadata": {},
     "output_type": "display_data"
    },
    {
     "name": "stdout",
     "output_type": "stream",
     "text": [
      "{'rpn/num_pos_anchors': (128.0, 280), 'rpn/num_neg_anchors': (128.0, 280), 'roi_head/num_fg_samples': (128.0, 280), 'roi_head/num_bg_samples': (381.14285714285717, 280), 'fast_rcnn/cls_accuracy': (0.8778058361391695, 280), 'fast_rcnn/fg_cls_accuracy': (0.6166294642857143, 280), 'fast_rcnn/false_negative': (0.3833705357142857, 280), 'mask_rcnn/accuracy': (0.8832417034894315, 280), 'mask_rcnn/false_positive': (0.13477961704593341, 280), 'mask_rcnn/false_negative': (0.10302969502407705, 280), 'data_time': (2.6158803709986387, 280), 'total_loss': (1.1929332204163074, 280), 'loss_cls': (0.29756778478622437, 280), 'loss_box_reg': (0.37989217042922974, 280), 'loss_mask': (0.265571266412735, 280), 'loss_rpn_cls': (0.047929052263498306, 280), 'loss_rpn_loc': (0.20197294652462006, 280), 'lr': (0.0028071999999999997, 280), 'time': (5.060581316000025, 280), 'eta_seconds': (100.58505480999884, 279)}\n",
      "Осталось до окончания  0:01:40.585055\n",
      "[08/04 16:37:26 d2.utils.events]:  eta: 0:00:00  iter: 299  total_loss: 1.218  loss_cls: 0.3064  loss_box_reg: 0.3877  loss_mask: 0.2726  loss_rpn_cls: 0.04908  loss_rpn_loc: 0.21  time: 5.0347  data_time: 2.5533  lr: 0.002997  max_mem: 21921M\n",
      "[08/04 16:37:26 d2.engine.hooks]: Overall training speed: 298 iterations in 0:25:00 (5.0347 s / it)\n",
      "[08/04 16:37:26 d2.engine.hooks]: Total training time: 0:25:05 (0:00:05 on hooks)\n",
      "[08/04 16:37:26 d2.data.datasets.coco]: Loaded 15 images in COCO format from /home/admin/notebooks/data_mb/val/val_annotations.json\n",
      "[08/04 16:37:26 d2.data.build]: Distribution of instances among all 1 categories:\n",
      "|  category  | #instances   |\n",
      "|:----------:|:-------------|\n",
      "|    word    | 1945         |\n",
      "|            |              |\n",
      "[08/04 16:37:26 d2.data.dataset_mapper]: [DatasetMapper] Augmentations used in inference: [ResizeShortestEdge(short_edge_length=(800, 800), max_size=1333, sample_style='choice')]\n",
      "[08/04 16:37:26 d2.data.common]: Serializing 15 elements to byte tensors and concatenating them all ...\n",
      "[08/04 16:37:26 d2.data.common]: Serialized dataset takes 1.58 MiB\n",
      "WARNING [08/04 16:37:26 d2.engine.defaults]: No evaluator found. Use `DefaultTrainer.test(evaluators=)`, or implement its `build_evaluator` method.\n",
      "Обучение завершено\n",
      "WARNING [08/04 16:37:26 d2.config.compat]: Config '/home/admin/notebooks/data_mb/train/config.yaml' has no VERSION. Assuming it to be compatible with latest v2.\n"
     ]
    },
    {
     "data": {
      "application/vnd.jupyter.widget-view+json": {
       "model_id": "0c9d8aeca6134fe3b5609452a035d8a9",
       "version_major": 2,
       "version_minor": 0
      },
      "text/plain": [
       "  0%|          | 0/15 [00:00<?, ?it/s]"
      ]
     },
     "metadata": {},
     "output_type": "display_data"
    },
    {
     "data": {
      "application/vnd.jupyter.widget-view+json": {
       "model_id": "8136e67684204834afcc16b22b6b18fc",
       "version_major": 2,
       "version_minor": 0
      },
      "text/plain": [
       "  0%|          | 0/15 [00:00<?, ?it/s]"
      ]
     },
     "metadata": {},
     "output_type": "display_data"
    },
    {
     "data": {
      "text/plain": [
       "0.80107"
      ]
     },
     "execution_count": 2,
     "metadata": {},
     "output_type": "execute_result"
    }
   ],
   "source": [
    "from training import init_datasets,init_train_config,train_model\n",
    "from training import init_predict_config,predict\n",
    "import numpy as np\n",
    "from detectron2.engine import launch\n",
    "from detectron2.utils.logger import setup_logger\n",
    "from training import evaluate\n",
    "setup_logger()\n",
    "\n",
    "!export CUDA_VISIBLE_DEVICES=0,1\n",
    "!export NGPU=2\n",
    "\n",
    "init_datasets(\n",
    "    train_annotations_filename = train_annotations_filename,\n",
    "    train_image_dir = train_image_dir,\n",
    "    val_annotations_filename = val_annotations_filename,\n",
    "    val_image_dir = val_image_dir)\n",
    "\n",
    "cfg = init_train_config(train_config_filename, output_dir)\n",
    "\n",
    "# обучение\n",
    "# train_model(cfg) \n",
    "# или:\n",
    "launch(train_model, num_gpus_per_machine=1, args=(cfg,))\n",
    "# не работает multy gpu: launch(train_model, num_gpus_per_machine=2, args=(cfg,))\n",
    "\n",
    "\n",
    "# построим предсказания на валидационном датасете и сохраним бинарные маски в файл\n",
    "cfg = init_predict_config(train_config_filename, output_dir)\n",
    "val_predictions_binary_mask_dict = predict(cfg, val_annotations_filename, val_image_dir)\n",
    "np.savez_compressed(val_predict_binary_mask_filename, **val_predictions_binary_mask_dict)\n",
    "\n",
    "\n",
    "# посчитаем метрику F1-score на валидационном датасете\n",
    "evaluate(train_binary_mask_filename, val_predict_binary_mask_filename)\n"
   ]
  },
  {
   "cell_type": "markdown",
   "id": "b44d6768",
   "metadata": {},
   "source": [
    "# Оценка качества"
   ]
  },
  {
   "cell_type": "code",
   "execution_count": 3,
   "id": "fc4a9fb1",
   "metadata": {},
   "outputs": [
    {
     "data": {
      "application/vnd.jupyter.widget-view+json": {
       "model_id": "4c21a1e600824c0f99a7c1e92f4ede72",
       "version_major": 2,
       "version_minor": 0
      },
      "text/plain": [
       "  0%|          | 0/15 [00:00<?, ?it/s]"
      ]
     },
     "metadata": {},
     "output_type": "display_data"
    },
    {
     "data": {
      "text/plain": [
       "0.80107"
      ]
     },
     "execution_count": 3,
     "metadata": {},
     "output_type": "execute_result"
    }
   ],
   "source": [
    "from training import evaluate\n",
    "\n",
    "evaluate(train_binary_mask_filename, val_predict_binary_mask_filename)"
   ]
  },
  {
   "cell_type": "markdown",
   "id": "ae4d15a6",
   "metadata": {},
   "source": [
    "# Сохранение результатов"
   ]
  },
  {
   "cell_type": "code",
   "execution_count": 4,
   "id": "a71cd491",
   "metadata": {},
   "outputs": [
    {
     "name": "stdout",
     "output_type": "stream",
     "text": [
      "copy file: /home/admin/notebooks/data_mb/train/train_annotations.json\n",
      "copy file: /home/admin/notebooks/data_mb/train/config.yaml\n",
      "copy file: /home/admin/notebooks/data_mb/val/val_annotations.json\n",
      "copy file: /home/admin/notebooks/output_mb/model_final.pth\n",
      "copy file: /home/admin/notebooks/output_mb/metrics.json\n",
      "copy file: /home/admin/notebooks/data_mb/val/val_predict_binary_mask.npz\n"
     ]
    }
   ],
   "source": [
    "from training import save_results\n",
    "\n",
    "save_results(output_dir, files = [\n",
    "    train_annotations_filename,\n",
    "    train_config_filename,\n",
    "    val_annotations_filename,\n",
    "    model_final_filename,\n",
    "    metrics_filename,\n",
    "    val_predict_binary_mask_filename\n",
    "])\n"
   ]
  }
 ],
 "metadata": {
  "kernelspec": {
   "display_name": "Python 3 (ipykernel)",
   "language": "python",
   "name": "python3"
  },
  "language_info": {
   "codemirror_mode": {
    "name": "ipython",
    "version": 3
   },
   "file_extension": ".py",
   "mimetype": "text/x-python",
   "name": "python",
   "nbconvert_exporter": "python",
   "pygments_lexer": "ipython3",
   "version": "3.7.16"
  }
 },
 "nbformat": 4,
 "nbformat_minor": 5
}
